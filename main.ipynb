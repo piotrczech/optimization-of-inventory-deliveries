{
 "cells": [
  {
   "cell_type": "markdown",
   "metadata": {},
   "source": [
    "Przewidywanie i utrzymywanie odpowiedniego stanu magazynowego produktów  \n",
    "==============\n",
    "\n",
    "**Autorzy:** *Dworaczyk Marek* i *Czech Piotr*\n",
    "\n",
    "<br><br>"
   ]
  },
  {
   "cell_type": "markdown",
   "metadata": {},
   "source": [
    "# Spis treści\n",
    "\n",
    "1. [Wprowadzenie](#wprowadzenie)\n",
    "    * [Motywacja](#motywacja)\n",
    "    * [Sformułowanie problemu](#sformułowanie-problemu)\n",
    "2. \n",
    "3. \n",
    "\n",
    "<br><br>"
   ]
  },
  {
   "cell_type": "markdown",
   "metadata": {},
   "source": [
    "# Wprowadzenie\n",
    "\n",
    "## Motywacja\n",
    "\n",
    "Przedmiotem naszych badań został magazyn, czyli serce całego organizmu dostaw i podstawa logistyki. Jest on miejscem kluczowym i elementarnym przy kupowaniu, wysyłaniu czy dostarczaniu jakichkolwiek produktów. Na łamach tej pracy chcielibyśmy się przyjrzeć politykom uzupełnien magazynu oraz czynnikom, które wpływają na stan magazynowy produktu. Zrobimy to wszystko, aby końcowo przedstawić matematyczną propozycję, jak utrzymywać odpowiedni stan magazynowy produktu. Wiemy, że w tej dziedzinie każda godzina ma znaczenie, dlatego odpowiednie planowanie dostaw i zamówień - tak aby odpowiednie produkty zawsze były w określonym stanie, ma olbrzymie znaczenie - bo często nie mówimy tu o godzinach opoóźnień, ale <i>dniach</i>.\n",
    "<br>\n",
    "\n",
    "Całość naszej pracy rozpoczeniemy od próby matematycznego opisania czynników wpływających na stan produktu. Dodatkowo w tak skomplikowanych środowiskach logistycznych, jak magazyn, ważnym czynnikiem jest też dobranie odpowiedniej strategii uzupełnień i planowania dostaw, aby nie zamawiać wszystkiego na przysłowiowe <i>hura</i>. Poruszymy zatem po krótce polityki uzupełnień magazynu, w tym wybrany przez nas schemat, aby praca ta była dla czytelnika maksymalnie klarowna odnośnie poruszanej zawartości.\n",
    "<br>\n",
    "\n",
    "Naszym celem będzie stopniowe analizowanie bardziej złożonego problemu i wzięcie pod uwagę trafniej dostosowanych parametrów równania. Natomiast zaczniemy od najprostrzego ujęcia problemu. To, co uważamy za istotne to nie stworzenie długiego i przekomplikowanego modelu, a znalazienie schematu, który pozwoli nam <i>dostatecznie dobrze</i> przybliżać oczekiwane przez nas wartości. \n",
    "<br>\n",
    "\n",
    "Naukowym punktem wyjścia została dla nas praca autorstwa Arpad Gy. T. Csik, Tamas L. Horvath i Peter Foldesi pod tytułem \"An Approximate Analytic Solution of the Inventory Balance Delay Differential Equation\", która pomogła nam dostrzeć oraz zrozumieć podstawowe problemy i zagadnienia podczas poruszania się w temacie planowania dostaw na magazynie. Sama praca jest również analizą różnych podejść do tego samego problemu, dlatego zaciekawionych zachęcamy do źródła.\n",
    "<br>\n",
    "\n",
    "## Sformułowanie problemu\n",
    "\n",
    "Lorem\n",
    "\n",
    "<br><br>"
   ]
  },
  {
   "cell_type": "code",
   "execution_count": 10,
   "metadata": {},
   "outputs": [
    {
     "data": {
      "text/plain": [
       "f (generic function with 1 method)"
      ]
     },
     "metadata": {},
     "output_type": "display_data"
    }
   ],
   "source": [
    "#variables\n",
    "I₀ = 0      #inital inventory value\n",
    "Iₐ = 0      #target inventory value\n",
    "τ = 0       #delay rate\n",
    "T = 1       #relaxation factor"
   ]
  },
  {
   "cell_type": "code",
   "execution_count": null,
   "metadata": {},
   "outputs": [],
   "source": [
    "function D(t)   #demand rate function\n",
    "    D₀ = t\n",
    "end"
   ]
  },
  {
   "cell_type": "code",
   "execution_count": null,
   "metadata": {},
   "outputs": [],
   "source": [
    "function O(t)   #order rate function\n",
    "    O₀ = (I₀ - I(t))/T\n",
    "end"
   ]
  },
  {
   "cell_type": "code",
   "execution_count": null,
   "metadata": {},
   "outputs": [],
   "source": [
    "function R(t)\n",
    "    R₀ =  O(t - τ)    #receival rate function\n",
    "end"
   ]
  },
  {
   "cell_type": "code",
   "execution_count": null,
   "metadata": {},
   "outputs": [],
   "source": [
    "# differential equation\n",
    "function dI(I, p, t)\n",
    "    (I₀-I(t))/T - D(t)\n",
    "end"
   ]
  }
 ],
 "metadata": {
  "kernelspec": {
   "display_name": "Julia 1.8.5",
   "language": "julia",
   "name": "julia-1.8"
  },
  "language_info": {
   "file_extension": ".jl",
   "mimetype": "application/julia",
   "name": "julia",
   "version": "1.8.5"
  }
 },
 "nbformat": 4,
 "nbformat_minor": 2
}
