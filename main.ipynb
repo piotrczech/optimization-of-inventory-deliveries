{
 "cells": [
  {
   "cell_type": "markdown",
   "metadata": {},
   "source": [
    "# Test\n",
    "\n",
    "do latexa:\n",
    "\\documentclass[12pt]{mwart}\n",
    "\\usepackage{pgfplots}\n",
    "\\pgfplotsset{compat=1.18}\n",
    "\\usepackage{polski}\n",
    "\\usepackage[utf8]{inputenc}\n",
    "\\usepackage[T1]{fontenc}\n",
    "\\usepackage{lmodern}\n",
    "\\usepackage{amsfonts}\n",
    "\\usepackage{mathtools,amsthm,amssymb,icomma,upgreek,xfrac,amsmath}\n",
    "\\mathtoolsset{showonlyrefs,mathic}\n",
    "\\usepackage[hidelinks,breaklinks,pdfusetitle,pdfdisplaydoctitle]{hyperref}\n",
    "\\usepackage{float}\n",
    "\\usepackage{pgf}"
   ]
  },
  {
   "cell_type": "code",
   "execution_count": 3,
   "metadata": {},
   "outputs": [
    {
     "name": "stdout",
     "output_type": "stream",
     "text": [
      "hello world!\n"
     ]
    }
   ],
   "source": [
    "println(\"hello world!\")"
   ]
  }
 ],
 "metadata": {
  "kernelspec": {
   "display_name": "Julia 1.8.5",
   "language": "julia",
   "name": "julia-1.8"
  },
  "language_info": {
   "file_extension": ".jl",
   "mimetype": "application/julia",
   "name": "julia",
   "version": "1.8.5"
  }
 },
 "nbformat": 4,
 "nbformat_minor": 2
}
